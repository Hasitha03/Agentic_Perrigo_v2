{
 "cells": [
  {
   "cell_type": "code",
   "execution_count": 1,
   "id": "5c3f0982-1b2c-40af-aefa-e214a864ea34",
   "metadata": {},
   "outputs": [],
   "source": [
    "import prompt_templates"
   ]
  },
  {
   "cell_type": "code",
   "execution_count": null,
   "id": "6cbde1b6-7cf5-4385-a246-3b5f8db3eb00",
   "metadata": {},
   "outputs": [],
   "source": []
  },
  {
   "cell_type": "code",
   "execution_count": null,
   "id": "3fe93707-38ec-418e-9453-3b1bd61a4e41",
   "metadata": {},
   "outputs": [],
   "source": []
  },
  {
   "cell_type": "code",
   "execution_count": null,
   "id": "8cd9e049-f411-4dad-9550-212fd870a502",
   "metadata": {},
   "outputs": [],
   "source": []
  }
 ],
 "metadata": {
  "kernelspec": {
   "display_name": "gen_ai_test",
   "language": "python",
   "name": "gen_ai_test"
  },
  "language_info": {
   "codemirror_mode": {
    "name": "ipython",
    "version": 3
   },
   "file_extension": ".py",
   "mimetype": "text/x-python",
   "name": "python",
   "nbconvert_exporter": "python",
   "pygments_lexer": "ipython3",
   "version": "3.12.9"
  }
 },
 "nbformat": 4,
 "nbformat_minor": 5
}
